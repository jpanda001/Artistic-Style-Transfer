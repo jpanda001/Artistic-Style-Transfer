{
  "nbformat": 4,
  "nbformat_minor": 0,
  "metadata": {
    "colab": {
      "name": "Untitled0.ipynb",
      "version": "0.3.2",
      "provenance": [],
      "toc_visible": true
    },
    "kernelspec": {
      "name": "python3",
      "display_name": "Python 3"
    }
  },
  "cells": [
    {
      "cell_type": "markdown",
      "metadata": {
        "id": "-EUqCOldzx-0",
        "colab_type": "text"
      },
      "source": [
        "# Data Cleaning\n"
      ]
    },
    {
      "cell_type": "code",
      "metadata": {
        "id": "cWFSusiuq-q5",
        "colab_type": "code",
        "colab": {
          "base_uri": "https://localhost:8080/",
          "height": 34
        },
        "outputId": "1a694824-8207-41b8-c680-b1381aa2ea81"
      },
      "source": [
        "from google.colab import drive\n",
        "drive.mount('/content/drive')"
      ],
      "execution_count": 1,
      "outputs": [
        {
          "output_type": "stream",
          "text": [
            "Drive already mounted at /content/drive; to attempt to forcibly remount, call drive.mount(\"/content/drive\", force_remount=True).\n"
          ],
          "name": "stdout"
        }
      ]
    },
    {
      "cell_type": "code",
      "metadata": {
        "id": "AxfOX4eNrET4",
        "colab_type": "code",
        "colab": {}
      },
      "source": [
        "import pandas as pd\n",
        "import sqlite3\n",
        "\n",
        "df = pd.read_sql(\"select * from modules\",\n",
        "                 sqlite3.connect(\"/content/drive/My Drive/APS360_Style_Transfer/bam_tier_1.sqlite\"),\n",
        "                 index_col=\"mid\")\n",
        "df1 = pd.read_sql(\"select * from scores\",\n",
        "                 sqlite3.connect(\"/content/drive/My Drive/APS360_Style_Transfer/bam_tier_1.sqlite\"),\n",
        "                 index_col=\"mid\")"
      ],
      "execution_count": 0,
      "outputs": []
    },
    {
      "cell_type": "code",
      "metadata": {
        "id": "64ofEdaBra4Z",
        "colab_type": "code",
        "colab": {
          "base_uri": "https://localhost:8080/",
          "height": 374
        },
        "outputId": "aa7df342-5bb4-48ce-f38b-447f1720cdfa"
      },
      "source": [
        "print(df1.iloc[0,:])"
      ],
      "execution_count": 4,
      "outputs": [
        {
          "output_type": "stream",
          "text": [
            "content_bicycle      -8.194265\n",
            "content_cat         -13.083484\n",
            "content_tree         -0.140162\n",
            "emotion_scary       -10.125443\n",
            "media_oilpaint       -8.102950\n",
            "content_bird         -6.825498\n",
            "content_dog          -5.438437\n",
            "emotion_gloomy       -5.251916\n",
            "media_3d_graphics   -13.048631\n",
            "media_pen_ink       -10.792016\n",
            "content_building     -1.033735\n",
            "content_flower       -6.437519\n",
            "emotion_happy        -0.784109\n",
            "media_comic         -13.372336\n",
            "media_vectorart     -10.279009\n",
            "content_cars         -4.741513\n",
            "content_people       -0.372203\n",
            "emotion_peaceful     -0.295248\n",
            "media_graphite      -11.520514\n",
            "media_watercolor    -11.912029\n",
            "Name: 489, dtype: float64\n"
          ],
          "name": "stdout"
        }
      ]
    },
    {
      "cell_type": "code",
      "metadata": {
        "id": "0myz-No4ruCQ",
        "colab_type": "code",
        "colab": {}
      },
      "source": [
        "df1.sort_values(by=['media_watercolor'], inplace=True, ascending=False)\n",
        "watercolour_url = df.loc[df1.index[:5000],'src']\n",
        "\n",
        "df1.sort_values(by=['media_oilpaint'], inplace=True, ascending=False)\n",
        "oilpaint_url = df.loc[df1.index[:5000],'src']\n",
        "\n",
        "df1.sort_values(by=['media_pen_ink'], inplace=True, ascending=False)\n",
        "pen_ink_url = df.loc[df1.index[:5000],'src']\n",
        "\n",
        "df1.sort_values(by=['media_graphite'], inplace=True, ascending=False)\n",
        "graphite_url = df.loc[df1.index[:5000],'src']"
      ],
      "execution_count": 0,
      "outputs": []
    },
    {
      "cell_type": "code",
      "metadata": {
        "id": "kT58EoR7sfEV",
        "colab_type": "code",
        "colab": {
          "base_uri": "https://localhost:8080/",
          "height": 153
        },
        "outputId": "4e0e5582-8b41-44db-d9a5-02e298cd0a02"
      },
      "source": [
        "graphite_url.values"
      ],
      "execution_count": 9,
      "outputs": [
        {
          "output_type": "execute_result",
          "data": {
            "text/plain": [
              "array(['https://mir-s3-cdn-cf.behance.net/project_modules/disp/0d9e1e15659879.56295661790f6.JPG',\n",
              "       'https://mir-s3-cdn-cf.behance.net/project_modules/disp/916a1421142783.56043b5ac42b6.JPG',\n",
              "       'https://mir-s3-cdn-cf.behance.net/project_modules/disp/36aa5a15659879.5629562b4685c.JPG',\n",
              "       ...,\n",
              "       'https://mir-s3-cdn-cf.behance.net/project_modules/disp/4bc1e818239489.562c63303269e.JPG',\n",
              "       'https://mir-s3-cdn-cf.behance.net/project_modules/disp/b58a634233464.5601db17e55af.jpg',\n",
              "       'https://mir-s3-cdn-cf.behance.net/project_modules/disp/feb2e314146297.5634c988cc108.png'],\n",
              "      dtype=object)"
            ]
          },
          "metadata": {
            "tags": []
          },
          "execution_count": 9
        }
      ]
    },
    {
      "cell_type": "code",
      "metadata": {
        "id": "DcM_An06uVtY",
        "colab_type": "code",
        "colab": {}
      },
      "source": [
        "import urllib.request\n",
        "import random\n",
        "\n",
        "\n",
        "def downloader(image_url, file_name):\n",
        "    full_file_name ='/content/drive/My Drive/APS360_Style_Transfer/Style_images/media_graphite/' + str(file_name) + '.jpg'\n",
        "    try:\n",
        "      urllib.request.urlretrieve(image_url,full_file_name)\n",
        "    except:\n",
        "      return 1\n",
        "\n",
        "i = 0\n",
        "num_error = 0\n",
        "\n",
        "for url in graphite_url.values:\n",
        "    error = downloader(url, i)\n",
        "    if error == 1:\n",
        "      num_error += 1\n",
        "    else:\n",
        "      i += 1"
      ],
      "execution_count": 0,
      "outputs": []
    },
    {
      "cell_type": "code",
      "metadata": {
        "id": "jgW5NfWk8Sqx",
        "colab_type": "code",
        "colab": {}
      },
      "source": [
        "def downloader(image_url, file_name):\n",
        "    full_file_name ='/content/drive/My Drive/APS360_Style_Transfer/Style_images/media_pen_ink/' + str(file_name) + '.jpg'\n",
        "    try:\n",
        "      urllib.request.urlretrieve(image_url,full_file_name)\n",
        "    except:\n",
        "      return 1\n",
        "\n",
        "i = 0\n",
        "num_error = 0\n",
        "\n",
        "\n",
        "for url in pen_ink_url.values[:1000]:\n",
        "    error = downloader(url, i)\n",
        "    if error == 1:\n",
        "      num_error += 1\n",
        "    else:\n",
        "      i += 1"
      ],
      "execution_count": 0,
      "outputs": []
    },
    {
      "cell_type": "code",
      "metadata": {
        "id": "5ejeyBo9_Ffn",
        "colab_type": "code",
        "colab": {}
      },
      "source": [
        "def downloader(image_url, file_name):\n",
        "    full_file_name ='/content/drive/My Drive/APS360_Style_Transfer/Style_images/media_oilpaint/' + str(file_name) + '.jpg'\n",
        "    try:\n",
        "      urllib.request.urlretrieve(image_url,full_file_name)\n",
        "    except:\n",
        "      return 1\n",
        "\n",
        "i = 0\n",
        "num_error = 0\n",
        "\n",
        "\n",
        "for url in oilpaint_url.values:\n",
        "    error = downloader(url, i)\n",
        "    if error == 1:\n",
        "      num_error += 1\n",
        "    elif i == 1000:\n",
        "      break\n",
        "    else:\n",
        "      i += 1  "
      ],
      "execution_count": 0,
      "outputs": []
    },
    {
      "cell_type": "code",
      "metadata": {
        "id": "RSaPRPxGCPxZ",
        "colab_type": "code",
        "colab": {}
      },
      "source": [
        "def downloader(image_url, file_name):\n",
        "    full_file_name ='/content/drive/My Drive/APS360_Style_Transfer/Style_images/media_watercolor/' + str(file_name) + '.jpg'\n",
        "    try:\n",
        "      urllib.request.urlretrieve(image_url,full_file_name)\n",
        "    except:\n",
        "      return 1\n",
        "\n",
        "i = 0\n",
        "num_error = 0\n",
        "\n",
        "\n",
        "for url in watercolour_url.values:\n",
        "    error = downloader(url, i)\n",
        "    if error == 1:\n",
        "      num_error += 1\n",
        "    elif i == 1000:\n",
        "      break\n",
        "    else:\n",
        "      i += 1  "
      ],
      "execution_count": 0,
      "outputs": []
    },
    {
      "cell_type": "code",
      "metadata": {
        "id": "o5BImyzAEj-p",
        "colab_type": "code",
        "colab": {}
      },
      "source": [
        "text_file = open('/content/drive/My Drive/APS360_Style_Transfer/fall11_urls.txt', encoding = \"ISO-8859-1\")"
      ],
      "execution_count": 0,
      "outputs": []
    },
    {
      "cell_type": "code",
      "metadata": {
        "id": "_gveVNUlYJWl",
        "colab_type": "code",
        "colab": {}
      },
      "source": [
        "lines = text_file.readlines()"
      ],
      "execution_count": 0,
      "outputs": []
    },
    {
      "cell_type": "code",
      "metadata": {
        "id": "IiAFghY4YQFs",
        "colab_type": "code",
        "colab": {}
      },
      "source": [
        "print(lines)"
      ],
      "execution_count": 0,
      "outputs": []
    }
  ]
}